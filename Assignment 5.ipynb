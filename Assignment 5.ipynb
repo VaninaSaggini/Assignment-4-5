{
 "cells": [
  {
   "cell_type": "markdown",
   "id": "148d4c8e",
   "metadata": {},
   "source": [
    "# Solve, by hand, the optimal mining problem:"
   ]
  },
  {
   "cell_type": "markdown",
   "id": "c4a6af26",
   "metadata": {},
   "source": [
    "generate a set of random (weight, fee) pairs"
   ]
  },
  {
   "cell_type": "code",
   "execution_count": 1,
   "id": "7c0867e4",
   "metadata": {},
   "outputs": [],
   "source": [
    "import numpy as np\n",
    "import seaborn as sns\n",
    "import ipywidgets as widgets\n",
    "import matplotlib.pyplot as plt\n",
    "import itertools\n",
    "from scipy.spatial import ConvexHull\n",
    "import scipy.optimize\n",
    "import random\n",
    "import pandas as pd\n",
    "from random import randint\n",
    "%matplotlib notebook\n",
    "sns.set()"
   ]
  },
  {
   "cell_type": "code",
   "execution_count": 2,
   "id": "1fa91121",
   "metadata": {},
   "outputs": [],
   "source": [
    "def gencoordinates(weight, fee):\n",
    "    seen = set()\n",
    "\n",
    "    x, y = randint(weight, fee), randint(weight, fee)\n",
    "\n",
    "    while True:\n",
    "        seen.add((x, y))\n",
    "        yield (x, y)\n",
    "        x, y = randint(weight, fee), randint(weight, fee)\n",
    "        while (x, y) in seen:\n",
    "            x, y = randint(weight, fee), randint(weight, fee)"
   ]
  },
  {
   "cell_type": "code",
   "execution_count": 4,
   "id": "2b980aed",
   "metadata": {},
   "outputs": [
    {
     "data": {
      "text/plain": [
       "(1, 56)"
      ]
     },
     "execution_count": 4,
     "metadata": {},
     "output_type": "execute_result"
    }
   ],
   "source": [
    "g = gencoordinates(1, 100)\n",
    "next(g)\n",
    "first_pair = next(g)\n",
    "first_pair"
   ]
  },
  {
   "cell_type": "code",
   "execution_count": 5,
   "id": "30d32e99",
   "metadata": {},
   "outputs": [
    {
     "data": {
      "text/plain": [
       "(8, 77)"
      ]
     },
     "execution_count": 5,
     "metadata": {},
     "output_type": "execute_result"
    }
   ],
   "source": [
    "h = gencoordinates(1, 100)\n",
    "next(h)\n",
    "second_pair = next(h)\n",
    "second_pair"
   ]
  },
  {
   "cell_type": "code",
   "execution_count": 6,
   "id": "8c65e2d7",
   "metadata": {},
   "outputs": [
    {
     "data": {
      "text/plain": [
       "(69, 67)"
      ]
     },
     "execution_count": 6,
     "metadata": {},
     "output_type": "execute_result"
    }
   ],
   "source": [
    "i = gencoordinates(1, 100)\n",
    "next(i)\n",
    "third_pair = next(i)\n",
    "third_pair"
   ]
  },
  {
   "cell_type": "code",
   "execution_count": 7,
   "id": "3ae6fa77",
   "metadata": {},
   "outputs": [
    {
     "data": {
      "text/plain": [
       "(41, 70)"
      ]
     },
     "execution_count": 7,
     "metadata": {},
     "output_type": "execute_result"
    }
   ],
   "source": [
    "f = gencoordinates(1, 100)\n",
    "next(f)\n",
    "fourth_pair = next(f)\n",
    "fourth_pair"
   ]
  },
  {
   "cell_type": "markdown",
   "id": "7b9e868f",
   "metadata": {},
   "source": [
    "Alternatively, ..."
   ]
  },
  {
   "cell_type": "code",
   "execution_count": 8,
   "id": "501d63d2",
   "metadata": {},
   "outputs": [
    {
     "data": {
      "text/html": [
       "<div>\n",
       "<style scoped>\n",
       "    .dataframe tbody tr th:only-of-type {\n",
       "        vertical-align: middle;\n",
       "    }\n",
       "\n",
       "    .dataframe tbody tr th {\n",
       "        vertical-align: top;\n",
       "    }\n",
       "\n",
       "    .dataframe thead th {\n",
       "        text-align: right;\n",
       "    }\n",
       "</style>\n",
       "<table border=\"1\" class=\"dataframe\">\n",
       "  <thead>\n",
       "    <tr style=\"text-align: right;\">\n",
       "      <th></th>\n",
       "      <th>Weight</th>\n",
       "      <th>Fee</th>\n",
       "    </tr>\n",
       "  </thead>\n",
       "  <tbody>\n",
       "    <tr>\n",
       "      <th>0</th>\n",
       "      <td>0.943725</td>\n",
       "      <td>0.253121</td>\n",
       "    </tr>\n",
       "    <tr>\n",
       "      <th>1</th>\n",
       "      <td>0.893773</td>\n",
       "      <td>0.588304</td>\n",
       "    </tr>\n",
       "    <tr>\n",
       "      <th>2</th>\n",
       "      <td>0.441703</td>\n",
       "      <td>0.132718</td>\n",
       "    </tr>\n",
       "    <tr>\n",
       "      <th>3</th>\n",
       "      <td>0.806514</td>\n",
       "      <td>0.838492</td>\n",
       "    </tr>\n",
       "    <tr>\n",
       "      <th>4</th>\n",
       "      <td>0.338056</td>\n",
       "      <td>0.900847</td>\n",
       "    </tr>\n",
       "    <tr>\n",
       "      <th>...</th>\n",
       "      <td>...</td>\n",
       "      <td>...</td>\n",
       "    </tr>\n",
       "    <tr>\n",
       "      <th>995</th>\n",
       "      <td>0.267570</td>\n",
       "      <td>0.549394</td>\n",
       "    </tr>\n",
       "    <tr>\n",
       "      <th>996</th>\n",
       "      <td>0.206076</td>\n",
       "      <td>0.030517</td>\n",
       "    </tr>\n",
       "    <tr>\n",
       "      <th>997</th>\n",
       "      <td>0.291135</td>\n",
       "      <td>0.204667</td>\n",
       "    </tr>\n",
       "    <tr>\n",
       "      <th>998</th>\n",
       "      <td>0.118426</td>\n",
       "      <td>0.664158</td>\n",
       "    </tr>\n",
       "    <tr>\n",
       "      <th>999</th>\n",
       "      <td>0.890924</td>\n",
       "      <td>0.906919</td>\n",
       "    </tr>\n",
       "  </tbody>\n",
       "</table>\n",
       "<p>1000 rows × 2 columns</p>\n",
       "</div>"
      ],
      "text/plain": [
       "       Weight       Fee\n",
       "0    0.943725  0.253121\n",
       "1    0.893773  0.588304\n",
       "2    0.441703  0.132718\n",
       "3    0.806514  0.838492\n",
       "4    0.338056  0.900847\n",
       "..        ...       ...\n",
       "995  0.267570  0.549394\n",
       "996  0.206076  0.030517\n",
       "997  0.291135  0.204667\n",
       "998  0.118426  0.664158\n",
       "999  0.890924  0.906919\n",
       "\n",
       "[1000 rows x 2 columns]"
      ]
     },
     "execution_count": 8,
     "metadata": {},
     "output_type": "execute_result"
    }
   ],
   "source": [
    "import random\n",
    "max_weight = 200\n",
    "\n",
    "n = 1000\n",
    "weights = []\n",
    "fees = []\n",
    "for x in range (0, n):\n",
    "    weights.append(random.random())\n",
    "    fees.append(random.random())\n",
    "\n",
    "df_weight_fees = pd.DataFrame(data=zip(weights,fees),columns=['Weight','Fee'])\n",
    "df_weight_fees"
   ]
  },
  {
   "cell_type": "markdown",
   "id": "8d4a5cba",
   "metadata": {},
   "source": [
    "within a hard weight limit of, say, 200, try to get the maximum sum of fees"
   ]
  },
  {
   "cell_type": "code",
   "execution_count": 9,
   "id": "11837c35",
   "metadata": {},
   "outputs": [
    {
     "name": "stdout",
     "output_type": "stream",
     "text": [
      "4\n"
     ]
    }
   ],
   "source": [
    "A = {\n",
    "  \"weight\": 4,\n",
    "  \"fee\": 9,\n",
    "}\n",
    "\n",
    "B = {\n",
    "  \"weight\": 3,\n",
    "  \"fee\": 8,\n",
    "}\n",
    "\n",
    "C = {\n",
    "  \"weight\": 1,\n",
    "  \"fee\": 10,\n",
    "}\n",
    "\n",
    "print(A[\"weight\"])"
   ]
  },
  {
   "cell_type": "code",
   "execution_count": 10,
   "id": "0e5c76ff",
   "metadata": {},
   "outputs": [],
   "source": [
    "pairs = [('A', 31, 49), ('B', 58, 15), ('C', 45, 70)]"
   ]
  },
  {
   "cell_type": "code",
   "execution_count": 11,
   "id": "e5a7906d",
   "metadata": {},
   "outputs": [],
   "source": [
    "def greedy_mining(pairs, capacity):\n",
    "    pairs = sorted(pairs, key=lambda item:item[1], reverse=True)\n",
    "    chosen_pair = {}\n",
    "    \n",
    "    \n",
    "greedy_mining(pairs, 200)"
   ]
  },
  {
   "cell_type": "code",
   "execution_count": 12,
   "id": "9ba2b1b5",
   "metadata": {},
   "outputs": [],
   "source": [
    "df_weight_fees['Ratio'] = df_weight_fees['Fee']/df_weight_fees['Weight']"
   ]
  },
  {
   "cell_type": "code",
   "execution_count": 13,
   "id": "9aced55c",
   "metadata": {},
   "outputs": [
    {
     "data": {
      "text/html": [
       "<div>\n",
       "<style scoped>\n",
       "    .dataframe tbody tr th:only-of-type {\n",
       "        vertical-align: middle;\n",
       "    }\n",
       "\n",
       "    .dataframe tbody tr th {\n",
       "        vertical-align: top;\n",
       "    }\n",
       "\n",
       "    .dataframe thead th {\n",
       "        text-align: right;\n",
       "    }\n",
       "</style>\n",
       "<table border=\"1\" class=\"dataframe\">\n",
       "  <thead>\n",
       "    <tr style=\"text-align: right;\">\n",
       "      <th></th>\n",
       "      <th>Weight</th>\n",
       "      <th>Fee</th>\n",
       "      <th>Ratio</th>\n",
       "    </tr>\n",
       "  </thead>\n",
       "  <tbody>\n",
       "    <tr>\n",
       "      <th>0</th>\n",
       "      <td>0.943725</td>\n",
       "      <td>0.253121</td>\n",
       "      <td>0.268215</td>\n",
       "    </tr>\n",
       "    <tr>\n",
       "      <th>1</th>\n",
       "      <td>0.893773</td>\n",
       "      <td>0.588304</td>\n",
       "      <td>0.658225</td>\n",
       "    </tr>\n",
       "    <tr>\n",
       "      <th>2</th>\n",
       "      <td>0.441703</td>\n",
       "      <td>0.132718</td>\n",
       "      <td>0.300469</td>\n",
       "    </tr>\n",
       "    <tr>\n",
       "      <th>3</th>\n",
       "      <td>0.806514</td>\n",
       "      <td>0.838492</td>\n",
       "      <td>1.039650</td>\n",
       "    </tr>\n",
       "    <tr>\n",
       "      <th>4</th>\n",
       "      <td>0.338056</td>\n",
       "      <td>0.900847</td>\n",
       "      <td>2.664785</td>\n",
       "    </tr>\n",
       "    <tr>\n",
       "      <th>...</th>\n",
       "      <td>...</td>\n",
       "      <td>...</td>\n",
       "      <td>...</td>\n",
       "    </tr>\n",
       "    <tr>\n",
       "      <th>995</th>\n",
       "      <td>0.267570</td>\n",
       "      <td>0.549394</td>\n",
       "      <td>2.053269</td>\n",
       "    </tr>\n",
       "    <tr>\n",
       "      <th>996</th>\n",
       "      <td>0.206076</td>\n",
       "      <td>0.030517</td>\n",
       "      <td>0.148085</td>\n",
       "    </tr>\n",
       "    <tr>\n",
       "      <th>997</th>\n",
       "      <td>0.291135</td>\n",
       "      <td>0.204667</td>\n",
       "      <td>0.702998</td>\n",
       "    </tr>\n",
       "    <tr>\n",
       "      <th>998</th>\n",
       "      <td>0.118426</td>\n",
       "      <td>0.664158</td>\n",
       "      <td>5.608193</td>\n",
       "    </tr>\n",
       "    <tr>\n",
       "      <th>999</th>\n",
       "      <td>0.890924</td>\n",
       "      <td>0.906919</td>\n",
       "      <td>1.017953</td>\n",
       "    </tr>\n",
       "  </tbody>\n",
       "</table>\n",
       "<p>1000 rows × 3 columns</p>\n",
       "</div>"
      ],
      "text/plain": [
       "       Weight       Fee     Ratio\n",
       "0    0.943725  0.253121  0.268215\n",
       "1    0.893773  0.588304  0.658225\n",
       "2    0.441703  0.132718  0.300469\n",
       "3    0.806514  0.838492  1.039650\n",
       "4    0.338056  0.900847  2.664785\n",
       "..        ...       ...       ...\n",
       "995  0.267570  0.549394  2.053269\n",
       "996  0.206076  0.030517  0.148085\n",
       "997  0.291135  0.204667  0.702998\n",
       "998  0.118426  0.664158  5.608193\n",
       "999  0.890924  0.906919  1.017953\n",
       "\n",
       "[1000 rows x 3 columns]"
      ]
     },
     "execution_count": 13,
     "metadata": {},
     "output_type": "execute_result"
    }
   ],
   "source": [
    "df_weight_fees"
   ]
  },
  {
   "cell_type": "markdown",
   "id": "caae79fa",
   "metadata": {},
   "source": [
    "not sure how to continue..."
   ]
  },
  {
   "cell_type": "code",
   "execution_count": null,
   "id": "1260f190",
   "metadata": {},
   "outputs": [],
   "source": []
  },
  {
   "cell_type": "code",
   "execution_count": null,
   "id": "53bd3eba",
   "metadata": {},
   "outputs": [],
   "source": []
  }
 ],
 "metadata": {
  "kernelspec": {
   "display_name": "Python 3 (ipykernel)",
   "language": "python",
   "name": "python3"
  },
  "language_info": {
   "codemirror_mode": {
    "name": "ipython",
    "version": 3
   },
   "file_extension": ".py",
   "mimetype": "text/x-python",
   "name": "python",
   "nbconvert_exporter": "python",
   "pygments_lexer": "ipython3",
   "version": "3.9.12"
  }
 },
 "nbformat": 4,
 "nbformat_minor": 5
}
